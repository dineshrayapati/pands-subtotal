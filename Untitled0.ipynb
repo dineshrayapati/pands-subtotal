{
 "cells": [
  {
   "cell_type": "code",
   "execution_count": null,
   "metadata": {
    "executionInfo": {
     "elapsed": 7,
     "status": "ok",
     "timestamp": 1743575807408,
     "user": {
      "displayName": "Dinesh Rayapati Dinesh",
      "userId": "16270352918522777218"
     },
     "user_tz": -330
    },
    "id": "lNkRfxnmM3Sw"
   },
   "outputs": [],
   "source": []
  },
  {
   "cell_type": "code",
   "execution_count": null,
   "metadata": {
    "id": "jPa_eFdtOX8x"
   },
   "outputs": [],
   "source": []
  },
  {
   "cell_type": "code",
   "execution_count": 1,
   "metadata": {
    "colab": {
     "base_uri": "https://localhost:8080/"
    },
    "executionInfo": {
     "elapsed": 1132,
     "status": "ok",
     "timestamp": 1743575808560,
     "user": {
      "displayName": "Dinesh Rayapati Dinesh",
      "userId": "16270352918522777218"
     },
     "user_tz": -330
    },
    "id": "Nnts0uLmM5a_",
    "outputId": "0c3fc82d-2da8-4658-c6fa-c461a1e15757"
   },
   "outputs": [
    {
     "name": "stdout",
     "output_type": "stream",
     "text": [
      "subtotal: 36\n"
     ]
    }
   ],
   "source": [
    "import pandas as pd\n",
    "data=pd.DataFrame ({\"Numbers\":range (1,9)})\n",
    "subtotal=data[\"Numbers\"].sum()\n",
    "print(\"subtotal:\",subtotal)"
   ]
  }
 ],
 "metadata": {
  "colab": {
   "authorship_tag": "ABX9TyN7unWrxCC9xQDMMt7YS9pn",
   "provenance": []
  },
  "kernelspec": {
   "display_name": "Python 3",
   "name": "python3"
  },
  "language_info": {
   "name": "python"
  }
 },
 "nbformat": 4,
 "nbformat_minor": 0
}
